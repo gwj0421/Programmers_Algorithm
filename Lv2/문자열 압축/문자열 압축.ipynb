{
 "cells": [
  {
   "cell_type": "code",
   "execution_count": 45,
   "metadata": {},
   "outputs": [
    {
     "data": {
      "text/plain": [
       "8"
      ]
     },
     "execution_count": 45,
     "metadata": {},
     "output_type": "execute_result"
    }
   ],
   "source": [
    "def solution(s):    \n",
    "    answer=[]\n",
    "    for i in range(1,len(s)+1):\n",
    "        stack=[]\n",
    "        temp=[s[j:j+i] for j in range(0,len(s),i)]\n",
    "        for j in temp:\n",
    "            if stack[-1:]!=[j]:\n",
    "                stack.append(j)\n",
    "            else:\n",
    "                if len(stack)>1:\n",
    "                    if str(stack[-2:-1][0]).isdigit():\n",
    "                        stack[-2]+=1\n",
    "                    else:\n",
    "                        stack.insert(-1,2)\n",
    "                else:\n",
    "                    stack.insert(0,2)\n",
    "        answer.append(len(''.join(map(str,stack))))\n",
    "    return min(answer)\n",
    "solution(\"abcabcdede\")"
   ]
  }
 ],
 "metadata": {
  "kernelspec": {
   "display_name": "gunwoong",
   "language": "python",
   "name": "conda"
  },
  "language_info": {
   "codemirror_mode": {
    "name": "ipython",
    "version": 3
   },
   "file_extension": ".py",
   "mimetype": "text/x-python",
   "name": "python",
   "nbconvert_exporter": "python",
   "pygments_lexer": "ipython3",
   "version": "3.9.5"
  },
  "orig_nbformat": 4
 },
 "nbformat": 4,
 "nbformat_minor": 2
}
