{
 "cells": [
  {
   "cell_type": "code",
   "execution_count": 26,
   "metadata": {},
   "outputs": [
    {
     "data": {
      "text/plain": [
       "['Prodo님이 들어왔습니다.', 'Ryan님이 들어왔습니다.', 'Prodo님이 나갔습니다.', 'Prodo님이 들어왔습니다.']"
      ]
     },
     "execution_count": 26,
     "metadata": {},
     "output_type": "execute_result"
    }
   ],
   "source": [
    "def solution(record):\n",
    "    logName={}\n",
    "    result=[]\n",
    "    enter=[]\n",
    "    \n",
    "    for i in record:\n",
    "        # 입장\n",
    "        i=i.split()\n",
    "        \n",
    "        if i[0]=='Enter':\n",
    "            if i[1] in logName:\n",
    "                logName[i[1]]=i[2]\n",
    "                enter.append([i[1],True])\n",
    "            else:\n",
    "                logName[i[1]]=i[2]\n",
    "                enter.append([i[1],True])\n",
    "        elif i[0]=='Leave':\n",
    "            enter.append([i[1],False])\n",
    "        else:                    \n",
    "            logName[i[1]]=i[2]\n",
    "    for i in enter:\n",
    "        if i[1]:\n",
    "            result.append(logName[i[0]]+'님이 들어왔습니다.')\n",
    "        else :\n",
    "            result.append(logName[i[0]]+'님이 나갔습니다.')\n",
    "            \n",
    "    return result\n",
    "                    \n",
    "                    \n",
    "\n",
    "\n",
    "solution([\"Enter uid1234 Muzi\", \"Enter uid4567 Prodo\",\"Leave uid1234\",\"Enter uid1234 Prodo\",\"Change uid4567 Ryan\"]\t)"
   ]
  },
  {
   "cell_type": "code",
   "execution_count": 17,
   "metadata": {},
   "outputs": [
    {
     "name": "stdout",
     "output_type": "stream",
     "text": [
      "{'uid4567': 1, 'uid1234': 2}\n"
     ]
    }
   ],
   "source": [
    "test={}\n",
    "test['uid4567']=1\n",
    "test['uid1234']=2\n",
    "print(test)"
   ]
  }
 ],
 "metadata": {
  "kernelspec": {
   "display_name": "gunwoong",
   "language": "python",
   "name": "conda"
  },
  "language_info": {
   "codemirror_mode": {
    "name": "ipython",
    "version": 3
   },
   "file_extension": ".py",
   "mimetype": "text/x-python",
   "name": "python",
   "nbconvert_exporter": "python",
   "pygments_lexer": "ipython3",
   "version": "3.9.5"
  },
  "orig_nbformat": 4
 },
 "nbformat": 4,
 "nbformat_minor": 2
}
