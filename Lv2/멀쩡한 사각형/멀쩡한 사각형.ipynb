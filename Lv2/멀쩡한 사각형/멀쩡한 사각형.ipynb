{
 "cells": [
  {
   "cell_type": "code",
   "execution_count": 16,
   "metadata": {},
   "outputs": [
    {
     "data": {
      "text/plain": [
       "80"
      ]
     },
     "execution_count": 16,
     "metadata": {},
     "output_type": "execute_result"
    }
   ],
   "source": [
    "import fractions\n",
    "import math\n",
    "\n",
    "def solution(w,h): \n",
    "    a=fractions.Fraction(w, h).denominator\n",
    "    b=fractions.Fraction(w, h).numerator\n",
    "    return w*h-(a+b-1)*math.gcd(w,h)\n",
    "\n",
    "# def gcd(a,b): return b if (a==0) else gcd(b%a,a)   \n",
    "# def solution(w,h): return w*h-w-h+gcd(w,h)"
   ]
  }
 ],
 "metadata": {
  "kernelspec": {
   "display_name": "gunwoong",
   "language": "python",
   "name": "conda"
  },
  "language_info": {
   "codemirror_mode": {
    "name": "ipython",
    "version": 3
   },
   "file_extension": ".py",
   "mimetype": "text/x-python",
   "name": "python",
   "nbconvert_exporter": "python",
   "pygments_lexer": "ipython3",
   "version": "3.9.5"
  },
  "orig_nbformat": 4
 },
 "nbformat": 4,
 "nbformat_minor": 2
}
