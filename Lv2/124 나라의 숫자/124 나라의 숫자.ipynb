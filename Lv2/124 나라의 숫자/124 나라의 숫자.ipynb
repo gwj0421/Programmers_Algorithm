{
 "cells": [
  {
   "cell_type": "code",
   "execution_count": null,
   "metadata": {},
   "outputs": [],
   "source": [
    "from itertools import product\n",
    "# version 1 (time error)\n",
    "def solution(n):\n",
    "    line=[1]\n",
    "    for i in range(1,19):\n",
    "        temp=3**i\n",
    "        line.append(temp+line[-1])\n",
    "    line=\t[1, 4, 13, 40, 121, 364, 1093, 3280, 9841, 29524, 88573, 265720, 797161, 2391484, 7174453, 21523360, 64570081, 193710244, 500000001]\n",
    "    \n",
    "    for i in range(18):\n",
    "        if  n<line[i+1]:\n",
    "            return ''.join(list(product(['1','2','4'],repeat=i+1))[n-line[i]])\n"
   ]
  },
  {
   "cell_type": "code",
   "execution_count": null,
   "metadata": {},
   "outputs": [],
   "source": [
    "# version 2\n",
    "def trans(n):\n",
    "    rev_base = ''\n",
    "    # 기존\n",
    "    while n > 0:\n",
    "        n, mod = divmod(n, 3)\n",
    "        if mod==0:\n",
    "            n-=1\n",
    "            mod=4\n",
    "        rev_base += str(mod)\n",
    "\n",
    "    return rev_base[::-1]\n",
    "\n",
    "def solution(n):\n",
    "    return trans(n)"
   ]
  }
 ],
 "metadata": {
  "language_info": {
   "name": "python"
  },
  "orig_nbformat": 4
 },
 "nbformat": 4,
 "nbformat_minor": 2
}
