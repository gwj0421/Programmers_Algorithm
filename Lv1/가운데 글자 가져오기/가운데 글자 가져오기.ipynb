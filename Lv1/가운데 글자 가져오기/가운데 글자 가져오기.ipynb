{
 "cells": [
  {
   "cell_type": "code",
   "execution_count": null,
   "metadata": {},
   "outputs": [],
   "source": [
    "# def solution(s):\n",
    "#     # 홀수일때, 짝수일때\n",
    "#     return s[len(s)//2] if len(s)%2==1 else s[len(s)//2-1:len(s)//2+1]\n",
    "\n",
    "def solution(s):\n",
    "    return s[(len(s)-1)//2:len(s)//2+1]"
   ]
  }
 ],
 "metadata": {
  "language_info": {
   "name": "python"
  },
  "orig_nbformat": 4
 },
 "nbformat": 4,
 "nbformat_minor": 2
}
