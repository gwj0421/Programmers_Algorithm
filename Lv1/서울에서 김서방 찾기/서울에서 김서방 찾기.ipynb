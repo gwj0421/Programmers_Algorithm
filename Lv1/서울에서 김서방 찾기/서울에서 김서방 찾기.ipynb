{
 "cells": [
  {
   "cell_type": "code",
   "execution_count": null,
   "metadata": {},
   "outputs": [],
   "source": [
    "def solution(seoul):\n",
    "    return \"김서방은 {}에 있다\".format(seoul.index('Kim'))"
   ]
  }
 ],
 "metadata": {
  "language_info": {
   "name": "python"
  },
  "orig_nbformat": 4
 },
 "nbformat": 4,
 "nbformat_minor": 2
}
