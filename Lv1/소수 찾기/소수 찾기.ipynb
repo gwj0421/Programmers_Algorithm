{
 "cells": [
  {
   "cell_type": "code",
   "execution_count": null,
   "metadata": {},
   "outputs": [],
   "source": [
    "import math\n",
    "def primeNumber(num):\n",
    "    temp=[True for _ in range(num+1)]\n",
    "    for i in range(2,int(math.sqrt(num))+1):\n",
    "        d=2\n",
    "        while(d*i<=num):\n",
    "            temp[d*i]=False\n",
    "            d+=1\n",
    "    return temp\n",
    "            \n",
    "\n",
    "def solution(n):\n",
    "    answer = primeNumber(n)\n",
    "    return answer.count(True)-2\n",
    "\n",
    "# def solution(n):\n",
    "#     temp=set(range(2,n+1))\n",
    "    \n",
    "#     for i in range(2,n+1):\n",
    "#         if i in temp:\n",
    "#             temp-=set(range(2*i,n+1,i))\n",
    "#     return len(temp)"
   ]
  }
 ],
 "metadata": {
  "language_info": {
   "name": "python"
  },
  "orig_nbformat": 4
 },
 "nbformat": 4,
 "nbformat_minor": 2
}
