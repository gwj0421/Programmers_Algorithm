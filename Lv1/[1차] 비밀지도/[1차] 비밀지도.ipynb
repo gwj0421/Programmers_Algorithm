{
 "cells": [
  {
   "cell_type": "code",
   "execution_count": null,
   "metadata": {},
   "outputs": [],
   "source": [
    "def solution(n, arr1, arr2):\n",
    "    answer = []\n",
    "    for i,j in zip(arr1,arr2):\n",
    "        # 비트연산자 사용\n",
    "        temp=bin(i|j)[2:]\n",
    "        temp=temp.rjust(n,'0')  # 0으로 자릿수 맞춤\n",
    "        temp=temp.replace('1','#')  # 1 -> #\n",
    "        temp=temp.replace('0',' ')  # 0 -> ' '\n",
    "        answer.append(temp)\n",
    "    return answer"
   ]
  }
 ],
 "metadata": {
  "language_info": {
   "name": "python"
  },
  "orig_nbformat": 4
 },
 "nbformat": 4,
 "nbformat_minor": 2
}
