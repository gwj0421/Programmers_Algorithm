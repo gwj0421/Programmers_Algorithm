{
 "cells": [
  {
   "cell_type": "code",
   "execution_count": null,
   "metadata": {},
   "outputs": [],
   "source": [
    "def solution(N, stages):\n",
    "    answer = {}\n",
    "    remain=len(stages)\n",
    "    for i in range(1,N+1):\n",
    "        lose=stages.count(i)\n",
    "        if lose==0:\n",
    "            answer[i]=0\n",
    "        else:\n",
    "            answer[i]=lose/remain\n",
    "        remain-=lose\n",
    "        \n",
    "    return sorted(answer, key=lambda x: answer[x],reverse=True)\n",
    "\n",
    "'''def solution(N, stages):\n",
    "    fail = {}\n",
    "    for i in range(1,N+1):\n",
    "        try:\n",
    "            fail_ = len([a for a in stages if a==i])/len([a for a in stages if a>=i])\n",
    "        except:\n",
    "            fail_ = 0\n",
    "        fail[i]=fail_\n",
    "    answer = sorted(fail, key=fail.get, reverse=True)\n",
    "    return answer'''"
   ]
  }
 ],
 "metadata": {
  "language_info": {
   "name": "python"
  },
  "orig_nbformat": 4
 },
 "nbformat": 4,
 "nbformat_minor": 2
}
