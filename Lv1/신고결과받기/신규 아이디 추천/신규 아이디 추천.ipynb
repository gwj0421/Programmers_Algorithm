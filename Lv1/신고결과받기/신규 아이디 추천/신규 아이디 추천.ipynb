{
 "cells": [
  {
   "cell_type": "code",
   "execution_count": null,
   "metadata": {},
   "outputs": [],
   "source": [
    "import re\n",
    "def solution(new_id):\n",
    "    new_id=new_id.lower()\n",
    "    new_id=re.sub(r\"[^a-z0-9\\-_.]\",\"\",new_id)\n",
    "    new_id=re.sub(r\"\\.+\",\".\",new_id)\n",
    "    new_id=re.sub(r\"^\\.|\\.$\",\"\",new_id)\n",
    "\n",
    "    length=len(new_id)\n",
    "    new_id=re.sub(\"\\.$\",\"\",new_id[:15]) if length>15 else new_id+new_id[-1]*(3-len(new_id)) if length>0 & length<3  else 'aaa' if length==0 else new_id\n",
    "\n",
    "    return new_id"
   ]
  }
 ],
 "metadata": {
  "language_info": {
   "name": "python"
  },
  "orig_nbformat": 4
 },
 "nbformat": 4,
 "nbformat_minor": 2
}
