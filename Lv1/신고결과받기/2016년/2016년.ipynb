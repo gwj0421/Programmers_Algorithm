{
 "cells": [
  {
   "cell_type": "code",
   "execution_count": null,
   "metadata": {},
   "outputs": [],
   "source": [
    "import datetime\n",
    "\n",
    "def weekPredict(year,mon,day):\n",
    "    date=datetime.datetime(year,mon,day)\n",
    "    return date.weekday()\n",
    "\n",
    "def solution(a, b):\n",
    "    week=['MON','TUE','WED','THU','FRI','SAT','SUN']\n",
    "    return week[weekPredict(2016,a,b)]"
   ]
  }
 ],
 "metadata": {
  "language_info": {
   "name": "python"
  },
  "orig_nbformat": 4
 },
 "nbformat": 4,
 "nbformat_minor": 2
}
