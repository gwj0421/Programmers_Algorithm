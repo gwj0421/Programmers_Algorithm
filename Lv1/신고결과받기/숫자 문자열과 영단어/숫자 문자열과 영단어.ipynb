{
 "cells": [
  {
   "cell_type": "code",
   "execution_count": null,
   "metadata": {},
   "outputs": [],
   "source": [
    "\"\"\"\n",
    "def solution(s):\n",
    "    t_list={'zero':'0','one':'1','two':'2','three':'3','four':'4','five':'5','six':'6','seven':'7','eight':'8','nine':'9'}\n",
    "    answer=''\n",
    "    alphabet=''\n",
    "    for i in s:\n",
    "        if i.isdigit():\n",
    "            answer+=i\n",
    "        else:\n",
    "            alphabet+=i\n",
    "\n",
    "        if alphabet in t_list:\n",
    "            answer+=t_list[alphabet]\n",
    "            alphabet=''\n",
    "    return int(answer)\n",
    "\"\"\"\n",
    "def solution(s):\n",
    "    answer=s\n",
    "    t_list={'zero':'0','one':'1','two':'2','three':'3','four':'4','five':'5','six':'6','seven':'7','eight':'8','nine':'9'}\n",
    "    for key,value in t_list.items():\n",
    "        answer=answer.replace(key,value)\n",
    "    return int(answer)"
   ]
  }
 ],
 "metadata": {
  "language_info": {
   "name": "python"
  },
  "orig_nbformat": 4
 },
 "nbformat": 4,
 "nbformat_minor": 2
}
