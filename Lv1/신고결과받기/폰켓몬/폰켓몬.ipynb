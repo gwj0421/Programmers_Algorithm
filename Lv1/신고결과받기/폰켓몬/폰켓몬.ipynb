{
 "cells": [
  {
   "cell_type": "code",
   "execution_count": null,
   "metadata": {},
   "outputs": [],
   "source": [
    "def solution(nums):\n",
    "    answer = 0\n",
    "    temp=set(nums)\n",
    "    if len(temp)<len(nums)//2:\n",
    "        answer=len(temp)\n",
    "    else:\n",
    "        answer=len(nums)//2\n",
    "    return answer\n",
    "\n",
    "# def solution(ls):\n",
    "#     return min(len(ls)/2, len(set(ls)))"
   ]
  }
 ],
 "metadata": {
  "language_info": {
   "name": "python"
  },
  "orig_nbformat": 4
 },
 "nbformat": 4,
 "nbformat_minor": 2
}
