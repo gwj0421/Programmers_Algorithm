{
 "cells": [
  {
   "cell_type": "code",
   "execution_count": null,
   "metadata": {},
   "outputs": [],
   "source": [
    "def convert(n, q):\n",
    "    rev_base = ''\n",
    "\n",
    "    while n > 0:\n",
    "        n, mod = divmod(n, q)\n",
    "        rev_base += str(mod)\n",
    "\n",
    "    return rev_base\n",
    "\n",
    "def solution(n):\n",
    "    return int(convert(n,3),3)"
   ]
  }
 ],
 "metadata": {
  "language_info": {
   "name": "python"
  },
  "orig_nbformat": 4
 },
 "nbformat": 4,
 "nbformat_minor": 2
}
