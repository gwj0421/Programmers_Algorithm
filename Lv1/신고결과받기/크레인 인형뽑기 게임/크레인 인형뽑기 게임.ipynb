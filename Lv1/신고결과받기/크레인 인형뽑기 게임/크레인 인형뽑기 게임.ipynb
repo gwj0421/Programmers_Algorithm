{
 "cells": [
  {
   "cell_type": "code",
   "execution_count": null,
   "metadata": {},
   "outputs": [],
   "source": [
    "def solution(board, moves):\n",
    "    pit=[]\n",
    "    answer=0\n",
    "    \n",
    "    for i in moves:\n",
    "        for j in range(len(board)):\n",
    "            if board[j][i-1]!=0:\n",
    "                pit.append(board[j][i-1])\n",
    "                board[j][i-1]=0\n",
    "                if len(pit)>1:\n",
    "                    if pit[-1]==pit[-2]:\n",
    "                        pit[-2:]=[]\n",
    "                        answer+=2\n",
    "                break\n",
    "    return answer"
   ]
  }
 ],
 "metadata": {
  "language_info": {
   "name": "python"
  },
  "orig_nbformat": 4
 },
 "nbformat": 4,
 "nbformat_minor": 2
}
