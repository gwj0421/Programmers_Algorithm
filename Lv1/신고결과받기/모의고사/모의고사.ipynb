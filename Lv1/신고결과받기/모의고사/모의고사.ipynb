{
 "cells": [
  {
   "cell_type": "code",
   "execution_count": null,
   "metadata": {},
   "outputs": [],
   "source": [
    "import itertools\n",
    "\n",
    "def solution(answers):\n",
    "    cnt=len(answers)\n",
    "    pattern=[[1,2,3,4,5],[2,1,2,3,2,4,2,5],[3,3,1,1,2,2,4,4,5,5]]\n",
    "    point=[0,0,0]\n",
    "    for i in range(len(pattern)):\n",
    "        for idiot , ans in zip(itertools.cycle(pattern[i]) , answers) :\n",
    "            if idiot==ans:\n",
    "                point[i]+=1\n",
    "    max_value=max(point)\n",
    "    answers=[i+1 for i, value in enumerate(point) if value == max_value]\n",
    "    return answers\n",
    "\n",
    "# def solution(answers):\n",
    "#     pattern1 = [1,2,3,4,5]\n",
    "#     pattern2 = [2,1,2,3,2,4,2,5]\n",
    "#     pattern3 = [3,3,1,1,2,2,4,4,5,5]\n",
    "#     score = [0, 0, 0]\n",
    "#     result = []\n",
    "\n",
    "#     for idx, answer in enumerate(answers):\n",
    "#         if answer == pattern1[idx%len(pattern1)]:\n",
    "#             score[0] += 1\n",
    "#         if answer == pattern2[idx%len(pattern2)]:\n",
    "#             score[1] += 1\n",
    "#         if answer == pattern3[idx%len(pattern3)]:\n",
    "#             score[2] += 1\n",
    "\n",
    "#     for idx, s in enumerate(score):\n",
    "#         if s == max(score):\n",
    "#             result.append(idx+1)\n",
    "\n",
    "#     return result"
   ]
  }
 ],
 "metadata": {
  "language_info": {
   "name": "python"
  },
  "orig_nbformat": 4
 },
 "nbformat": 4,
 "nbformat_minor": 2
}
