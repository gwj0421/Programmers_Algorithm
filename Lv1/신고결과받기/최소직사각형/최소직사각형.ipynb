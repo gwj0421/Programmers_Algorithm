{
 "cells": [
  {
   "cell_type": "code",
   "execution_count": null,
   "metadata": {},
   "outputs": [],
   "source": [
    "def change(a,b):\n",
    "    temp=a\n",
    "    a=b\n",
    "    b=temp\n",
    "    return a,b\n",
    "\n",
    "def minimum_Rectangle(sizeList):\n",
    "    for i in range(len(sizeList)):\n",
    "        if sizeList[i][0]<sizeList[i][1]:\n",
    "            sizeList[i][0],sizeList[i][1]=change(sizeList[i][0],sizeList[i][1])\n",
    "    leftList=[row[0] for row in sizeList]\n",
    "    rightList=[row[1] for row in sizeList]\n",
    "    return max(leftList)*max(rightList)\n",
    "\n",
    "def solution(sizes):\n",
    "    return minimum_Rectangle(sizes)"
   ]
  }
 ],
 "metadata": {
  "language_info": {
   "name": "python"
  },
  "orig_nbformat": 4
 },
 "nbformat": 4,
 "nbformat_minor": 2
}
