{
 "cells": [
  {
   "cell_type": "code",
   "execution_count": null,
   "metadata": {},
   "outputs": [],
   "source": [
    "def search(num_list,target):\n",
    "    ans=[(i,j) for i in range(3) for j in range(4) if num_list[i][j]==target]\n",
    "    return ans[0]\n",
    "    \n",
    "\n",
    "def solution(numbers, hand):\n",
    "    answer = ''\n",
    "    pad=[['*',7,4,1],[0,8,5,2],['#',9,6,3]]\n",
    "    lh=(0,0)\n",
    "    rh=(2,0)\n",
    "    \n",
    "    for i in numbers:\n",
    "        if i==1 or i==4 or i==7:\n",
    "            answer+='L'\n",
    "            lh=search(pad,i)\n",
    "        elif i==3 or i==6 or i==9:\n",
    "            answer+='R'\n",
    "            rh=search(pad,i)\n",
    "        elif i==2 or i==5 or i==8 or i==0:\n",
    "            point=search(pad,i)\n",
    "            leftToPoint=abs(lh[0]-point[0])+abs(lh[1]-point[1])\n",
    "            rightToPoint=abs(rh[0]-point[0])+abs(rh[1]-point[1])\n",
    "            if leftToPoint<rightToPoint:\n",
    "                answer+='L'\n",
    "                lh=point\n",
    "            elif leftToPoint>rightToPoint:\n",
    "                answer+='R'\n",
    "                rh=point\n",
    "            else:\n",
    "                if hand==\"right\":\n",
    "                    answer+='R'\n",
    "                    rh=point\n",
    "                elif hand==\"left\":\n",
    "                    answer+='L'\n",
    "                    lh=point\n",
    "                else :\n",
    "                    pass\n",
    "\n",
    "    return answer"
   ]
  }
 ],
 "metadata": {
  "language_info": {
   "name": "python"
  },
  "orig_nbformat": 4
 },
 "nbformat": 4,
 "nbformat_minor": 2
}
