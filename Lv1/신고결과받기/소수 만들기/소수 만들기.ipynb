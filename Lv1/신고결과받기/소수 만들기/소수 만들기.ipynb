{
 "cells": [
  {
   "cell_type": "code",
   "execution_count": null,
   "metadata": {},
   "outputs": [],
   "source": [
    "import itertools\n",
    "import math\n",
    "\n",
    "def primeTable(x):\n",
    "    b_list=[True for i in range(x+1)]\n",
    "    \n",
    "    for i in range(2,int(math.sqrt(x))+1):\n",
    "        if b_list[i]==True:\n",
    "            j=2\n",
    "            while i*j<=x:\n",
    "                b_list[i*j]=False\n",
    "                j+=1\n",
    "    return b_list\n",
    "\n",
    "def solution(nums):\n",
    "    answer = 0\n",
    "    judgeTable=primeTable(2000)\n",
    "    combination=list(itertools.combinations(nums,3))\n",
    "    for i in combination:\n",
    "        if judgeTable[sum(i)]:\n",
    "            answer+=1\n",
    "\n",
    "    return answer"
   ]
  }
 ],
 "metadata": {
  "language_info": {
   "name": "python"
  },
  "orig_nbformat": 4
 },
 "nbformat": 4,
 "nbformat_minor": 2
}
