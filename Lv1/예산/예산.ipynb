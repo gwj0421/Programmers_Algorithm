{
 "cells": [
  {
   "cell_type": "code",
   "execution_count": null,
   "metadata": {},
   "outputs": [],
   "source": [
    "def budget_allocation(blist,b):\n",
    "    blist.sort()\n",
    "    cnt=0\n",
    "    for i in blist:\n",
    "        b=b-i\n",
    "        if b>=0:\n",
    "            cnt+=1\n",
    "        else :\n",
    "            break\n",
    "    return cnt\n",
    "\n",
    "def solution(d, budget):\n",
    "    return budget_allocation(d,budget)"
   ]
  }
 ],
 "metadata": {
  "language_info": {
   "name": "python"
  },
  "orig_nbformat": 4
 },
 "nbformat": 4,
 "nbformat_minor": 2
}
