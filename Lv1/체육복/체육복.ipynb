{
 "cells": [
  {
   "cell_type": "code",
   "execution_count": null,
   "metadata": {},
   "outputs": [],
   "source": [
    "def solution(n, lost, reserve):\n",
    "    answer=0\n",
    "    gym_suit = [1 for i in range(n)]\n",
    "    for i in lost:\n",
    "        gym_suit[i-1]-=1\n",
    "    for i in reserve:\n",
    "        gym_suit[i-1]+=1\n",
    "        \n",
    "    for i in range(n-1):\n",
    "        if gym_suit[i]==2:\n",
    "            if gym_suit[i+1]==0:\n",
    "                gym_suit[i]-=1\n",
    "                gym_suit[i+1]+=1\n",
    "        elif gym_suit[i+1]==2:\n",
    "            if gym_suit[i]==0:\n",
    "                gym_suit[i]+=1\n",
    "                gym_suit[i+1]-=1\n",
    "    for i in gym_suit:\n",
    "        if i>0:\n",
    "            answer+=1\n",
    "        \n",
    "    return answer\n",
    "\n",
    "# def solution(n, lost, reserve):\n",
    "#     _reserve = [r for r in reserve if r not in lost]\n",
    "#     _lost = [l for l in lost if l not in reserve]\n",
    "#     for r in _reserve:\n",
    "#         f = r - 1\n",
    "#         b = r + 1\n",
    "#         if f in _lost:\n",
    "#             _lost.remove(f)\n",
    "#         elif b in _lost:\n",
    "#             _lost.remove(b)\n",
    "#     return n - len(_lost)"
   ]
  }
 ],
 "metadata": {
  "language_info": {
   "name": "python"
  },
  "orig_nbformat": 4
 },
 "nbformat": 4,
 "nbformat_minor": 2
}
