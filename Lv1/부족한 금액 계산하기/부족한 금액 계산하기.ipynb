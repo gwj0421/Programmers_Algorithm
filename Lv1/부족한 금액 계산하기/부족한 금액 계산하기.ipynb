{
 "cells": [
  {
   "cell_type": "code",
   "execution_count": null,
   "metadata": {},
   "outputs": [],
   "source": [
    "# def calculate(price,money,count):\n",
    "#     for i in range(1,count+1):\n",
    "#         money-=price*i\n",
    "#     if money<0: # 부족할 때 \n",
    "#         return abs(money)\n",
    "#     else :    # 부족하지 않을 때\n",
    "#         return 0\n",
    "\n",
    "# def solution(price, money, count):\n",
    "#     return calculate(price,money,count)\n",
    "\n",
    "def solution(price, money, count):\n",
    "    # 등차수열 사용 n(n+1)//2\n",
    "    return max(0,price*(count+1)*count//2-money)"
   ]
  }
 ],
 "metadata": {
  "language_info": {
   "name": "python"
  },
  "orig_nbformat": 4
 },
 "nbformat": 4,
 "nbformat_minor": 2
}
