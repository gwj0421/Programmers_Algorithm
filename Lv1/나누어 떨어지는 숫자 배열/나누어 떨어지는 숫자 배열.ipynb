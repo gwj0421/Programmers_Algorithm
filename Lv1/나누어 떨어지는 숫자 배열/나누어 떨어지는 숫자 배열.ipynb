{
 "cells": [
  {
   "cell_type": "code",
   "execution_count": null,
   "metadata": {},
   "outputs": [],
   "source": [
    "# def solution(arr, divisor):\n",
    "#     answer=0\n",
    "#     # 나누어 떨어지는 것만 추출\n",
    "#     arr=[x for x in arr if x%divisor==0]\n",
    "#     if len(arr)<1:\n",
    "#         return [-1]\n",
    "#     else :\n",
    "#         return sorted(arr)\n",
    "    \n",
    "def solution(arr, divisor):\n",
    "    # A or B를 사용하면 A가 거짓일때 B가 리턴된다 \n",
    "    return sorted([n for n in arr if n%divisor == 0]) or [-1]"
   ]
  }
 ],
 "metadata": {
  "language_info": {
   "name": "python"
  },
  "orig_nbformat": 4
 },
 "nbformat": 4,
 "nbformat_minor": 2
}
