{
 "cells": [
  {
   "cell_type": "code",
   "execution_count": null,
   "metadata": {},
   "outputs": [],
   "source": [
    "def solution(s, n):\n",
    "    answer = ''\n",
    "    highList=[chr(x) for x in range(65,91)]\n",
    "    lowList=[chr(x) for x in range(97,123)]\n",
    "    \n",
    "    for i in s:\n",
    "        if i!=' ':\n",
    "            if i in highList:\n",
    "                answer+=highList[(ord(i)-65+n)%26]\n",
    "            else :\n",
    "                answer+=lowList[(ord(i)-97+n)%26]\n",
    "        else:\n",
    "            answer+=' '=\n",
    "    \n",
    "    return answer"
   ]
  }
 ],
 "metadata": {
  "language_info": {
   "name": "python"
  },
  "orig_nbformat": 4
 },
 "nbformat": 4,
 "nbformat_minor": 2
}
