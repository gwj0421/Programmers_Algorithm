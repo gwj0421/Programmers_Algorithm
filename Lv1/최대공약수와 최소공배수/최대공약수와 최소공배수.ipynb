{
 "cells": [
  {
   "cell_type": "code",
   "execution_count": 19,
   "metadata": {},
   "outputs": [],
   "source": [
    "# 유클리드 호제법 : 2개의 자연수(또는 정식) a, b에 대해서 a를 b로 나눈 나머지를 r이라 하면(단, a>b), a와 b의 최대공약수는 b와 r의 최대공약수와 같다. \n",
    "# 이 성질에 따라, b를 r로 나눈 나머지 r'를 구하고, 다시 r을 r'로 나눈 나머지를 구하는 과정을 반복하여 나머지가 0이 되었을 때 나누는 수가 a와 b의 최대공약수이다.\n",
    "def gcd(n1,n2):\n",
    "    if n1<n2:\n",
    "        temp=n1\n",
    "        n1=n2\n",
    "        n2=temp\n",
    "\n",
    "    while(n1%n2>0):\n",
    "        remain=n1%n2\n",
    "        n1,n2=n2,remain\n",
    "        \n",
    "    return n2\n",
    "    \n",
    "# 최소공배수 : 2개의 자연수 a,b의 곱에 최대공약수를 나눈 값\n",
    "def lcm(n1,n2):\n",
    "    return n1*n2//gcd(n1,n2)\n",
    "\n",
    "def solution(n, m):\n",
    "    return [gcd(n,m),lcm(n,m)]"
   ]
  },
  {
   "cell_type": "code",
   "execution_count": 20,
   "metadata": {},
   "outputs": [],
   "source": [
    "def solution(n,m):\n",
    "    if n<m:\n",
    "        n,m=m,n\n",
    "    a,b=n,m\n",
    "    \n",
    "    while n%m:\n",
    "        n,m=m,n%m\n",
    "        \n",
    "    return [m,(a*b)//m]"
   ]
  }
 ],
 "metadata": {
  "kernelspec": {
   "display_name": "conda",
   "language": "python",
   "name": "conda"
  },
  "language_info": {
   "codemirror_mode": {
    "name": "ipython",
    "version": 3
   },
   "file_extension": ".py",
   "mimetype": "text/x-python",
   "name": "python",
   "nbconvert_exporter": "python",
   "pygments_lexer": "ipython3",
   "version": "3.9.2"
  },
  "orig_nbformat": 4
 },
 "nbformat": 4,
 "nbformat_minor": 2
}
