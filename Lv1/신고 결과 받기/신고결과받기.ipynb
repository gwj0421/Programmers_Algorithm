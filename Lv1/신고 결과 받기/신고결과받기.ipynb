{
 "cells": [
  {
   "cell_type": "code",
   "execution_count": null,
   "metadata": {},
   "outputs": [],
   "source": [
    "\"\"\"\n",
    "def solution(id_list, report, k):\n",
    "    answer = [0 for i in range(len(id_list))]\n",
    "    receive_list={i:'' for i in id_list}\n",
    "    report=set(report)\n",
    "    for i in report:\n",
    "        id=i.split()\n",
    "        receive_list[id[1]]+=id[0]+' '\n",
    "    id_list={i:j for j,i in enumerate(id_list)}\n",
    "     \n",
    "    for i in receive_list.values():\n",
    "        if len(i.split())>=k:\n",
    "            for j in i.split():\n",
    "                answer[id_list[j]]+=1\n",
    "    \n",
    "    return answer\n",
    "\"\"\"\n",
    "\n",
    "def solution(id_list, report, k):\n",
    "    answer = [0 for i in range(len(id_list))]\n",
    "    receive_list={i:0 for i in id_list}\n",
    "    report=set(report)\n",
    "    for i in report:\n",
    "        receive_list[i.split()[1]]+=1\n",
    "    \n",
    "    for i in report:\n",
    "        if receive_list[i.split()[1]]>=k:\n",
    "            answer[id_list.index(i.split()[0])]+=1\n",
    "    \n",
    "    return answer"
   ]
  }
 ],
 "metadata": {
  "language_info": {
   "name": "python"
  },
  "orig_nbformat": 4
 },
 "nbformat": 4,
 "nbformat_minor": 2
}
