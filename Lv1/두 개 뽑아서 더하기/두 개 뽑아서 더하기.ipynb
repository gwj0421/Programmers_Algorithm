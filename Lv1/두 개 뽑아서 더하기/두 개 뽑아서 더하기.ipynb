{
 "cells": [
  {
   "cell_type": "code",
   "execution_count": null,
   "metadata": {},
   "outputs": [],
   "source": [
    "import itertools\n",
    "\n",
    "def indexCombination (num):\n",
    "    num=list(itertools.combinations(num, 2))\n",
    "    for i,j in enumerate(num):\n",
    "        num[i]=sum(j)\n",
    "        \n",
    "    return sorted(set(num))\n",
    "\n",
    "def solution(numbers):\n",
    "    return indexCombination(numbers)"
   ]
  }
 ],
 "metadata": {
  "language_info": {
   "name": "python"
  },
  "orig_nbformat": 4
 },
 "nbformat": 4,
 "nbformat_minor": 2
}
