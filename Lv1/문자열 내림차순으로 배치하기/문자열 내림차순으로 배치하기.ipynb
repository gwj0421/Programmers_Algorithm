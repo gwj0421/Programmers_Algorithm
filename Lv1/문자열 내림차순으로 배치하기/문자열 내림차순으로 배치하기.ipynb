{
 "cells": [
  {
   "cell_type": "code",
   "execution_count": null,
   "metadata": {},
   "outputs": [],
   "source": [
    "# def solution(s):\n",
    "#     temp=[]\n",
    "#     answer=''\n",
    "#     for i in s:\n",
    "#         temp.append(ord(i))\n",
    "#     temp.sort(reverse=True)\n",
    "#     for i in temp:\n",
    "#         answer+=chr(i)\n",
    "#     return answer\n",
    "\n",
    "def solution(s):\n",
    "    return ''.join(sorted(s,reverse=True))"
   ]
  }
 ],
 "metadata": {
  "language_info": {
   "name": "python"
  },
  "orig_nbformat": 4
 },
 "nbformat": 4,
 "nbformat_minor": 2
}
