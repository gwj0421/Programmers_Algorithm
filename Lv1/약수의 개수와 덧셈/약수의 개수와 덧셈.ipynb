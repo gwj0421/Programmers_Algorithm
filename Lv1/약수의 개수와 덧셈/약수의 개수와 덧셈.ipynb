{
 "cells": [
  {
   "cell_type": "code",
   "execution_count": null,
   "metadata": {},
   "outputs": [],
   "source": [
    "def calculate(n):\n",
    "    # O(N^(1/2))\n",
    "    divisorsList = []\n",
    "\n",
    "    for i in range(1, int(n**(1/2)) + 1):\n",
    "        if (n % i == 0):\n",
    "            divisorsList.append(i) \n",
    "            if ( (i**2) != n) : \n",
    "                divisorsList.append(n // i)\n",
    "                \n",
    "    if len(divisorsList) % 2==1:\n",
    "        return False\n",
    "    else :\n",
    "        return True\n",
    "        \n",
    "\n",
    "\n",
    "def solution(left, right):\n",
    "    answer = 0\n",
    "    for i in range(left,right+1):\n",
    "        if calculate(i):\n",
    "            answer+=i\n",
    "        else :\n",
    "            answer-=i\n",
    "    \n",
    "    return answer"
   ]
  }
 ],
 "metadata": {
  "language_info": {
   "name": "python"
  },
  "orig_nbformat": 4
 },
 "nbformat": 4,
 "nbformat_minor": 2
}
