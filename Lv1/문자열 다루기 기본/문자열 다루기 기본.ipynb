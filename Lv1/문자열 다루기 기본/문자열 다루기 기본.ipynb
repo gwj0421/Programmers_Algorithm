{
 "cells": [
  {
   "cell_type": "code",
   "execution_count": null,
   "metadata": {},
   "outputs": [],
   "source": [
    "def solution(s):\n",
    "    return True if (len(s)==4 or len(s)==6) and s.isdecimal() else False\n",
    "#  len(s) ==4 or len(s) ==6 or s.isdecimal()"
   ]
  }
 ],
 "metadata": {
  "language_info": {
   "name": "python"
  },
  "orig_nbformat": 4
 },
 "nbformat": 4,
 "nbformat_minor": 2
}
