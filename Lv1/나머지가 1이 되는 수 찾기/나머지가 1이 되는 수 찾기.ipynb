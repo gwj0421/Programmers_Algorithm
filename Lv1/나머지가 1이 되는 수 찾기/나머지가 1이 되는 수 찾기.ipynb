{
 "cells": [
  {
   "cell_type": "code",
   "execution_count": null,
   "metadata": {},
   "outputs": [],
   "source": [
    "def solution(n):\n",
    "    for x in range(2,n):\n",
    "        if n%x==1:\n",
    "            answer=x\n",
    "            break\n",
    "    return answer"
   ]
  }
 ],
 "metadata": {
  "language_info": {
   "name": "python"
  },
  "orig_nbformat": 4
 },
 "nbformat": 4,
 "nbformat_minor": 2
}
