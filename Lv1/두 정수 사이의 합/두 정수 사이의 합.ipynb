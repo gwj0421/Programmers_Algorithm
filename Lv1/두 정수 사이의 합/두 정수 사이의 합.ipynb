{
 "cells": [
  {
   "cell_type": "code",
   "execution_count": null,
   "metadata": {},
   "outputs": [],
   "source": [
    "# def solution(a, b):\n",
    "#     if a<b:\n",
    "#         return sum(range(a,b+1))\n",
    "#     else:\n",
    "#         return sum(range(b,a+1))\n",
    "    \n",
    "def solution(a,b):\n",
    "    # 등차수열 공식, 첫째항a 마지막항i n항\n",
    "    # n*(a+i)//2\n",
    "    return (abs(a-b)+1)*(a+b)//2"
   ]
  }
 ],
 "metadata": {
  "language_info": {
   "name": "python"
  },
  "orig_nbformat": 4
 },
 "nbformat": 4,
 "nbformat_minor": 2
}
