{
 "cells": [
  {
   "cell_type": "code",
   "execution_count": null,
   "metadata": {},
   "outputs": [],
   "source": [
    "# def solution(arr):\n",
    "#     answer = []\n",
    "#     for i in arr:\n",
    "#         if len(answer)<1:\n",
    "#             answer.append(i)\n",
    "#         if answer[-1]!=i:\n",
    "#             answer.append(i)\n",
    "            \n",
    "#     return answer\n",
    "\n",
    "def solution(s):\n",
    "    a = []\n",
    "    for i in s:\n",
    "        # 수가 연속될 경우, 슬라이싱했기 때문에 [i]씀\n",
    "        # 위의 방식을 사용하게 되면 처음에 \n",
    "        # 리스트에 값이 없을 때도 같이 생각할 수 있음\n",
    "        if a[-1:] == [i]: continue\n",
    "        a.append(i)\n",
    "    return a"
   ]
  }
 ],
 "metadata": {
  "language_info": {
   "name": "python"
  },
  "orig_nbformat": 4
 },
 "nbformat": 4,
 "nbformat_minor": 2
}
