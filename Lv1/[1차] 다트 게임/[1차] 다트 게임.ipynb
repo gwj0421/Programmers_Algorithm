{
 "cells": [
  {
   "cell_type": "code",
   "execution_count": null,
   "metadata": {},
   "outputs": [],
   "source": [
    "def solution(dartResult):\n",
    "    score = []\n",
    "    point=''\n",
    "    for i in dartResult:\n",
    "        if i.isdigit():\n",
    "            point+=i\n",
    "        elif i=='S':\n",
    "            point=int(point)**1\n",
    "            score.append(point)\n",
    "            point=''\n",
    "        elif i=='D':\n",
    "            point=int(point)**2\n",
    "            score.append(point)\n",
    "            point=''\n",
    "        elif i=='T':\n",
    "            point=int(point)**3\n",
    "            score.append(point)\n",
    "            point=''\n",
    "        elif i=='*':\n",
    "            if len(score)>1:\n",
    "                score[-1]=score[-1]*2\n",
    "                score[-2]=score[-2]*2\n",
    "            # *이 첫번째로 나올경우\n",
    "            else :\n",
    "                score[-1]=score[-1]*2\n",
    "        elif i=='#':\n",
    "            score[-1]=score[-1]*(-1)\n",
    "            \n",
    "    return sum(score)"
   ]
  }
 ],
 "metadata": {
  "language_info": {
   "name": "python"
  },
  "orig_nbformat": 4
 },
 "nbformat": 4,
 "nbformat_minor": 2
}
