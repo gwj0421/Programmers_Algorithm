{
 "cells": [
  {
   "cell_type": "code",
   "execution_count": null,
   "metadata": {},
   "outputs": [],
   "source": [
    "# def solution(n):\n",
    "#     # 짝수일때 홀수일때\n",
    "#     return '수박'*(n//2) if n%2==0 else '수박'*(n//2)+'수'\n",
    "\n",
    "def solution(n):\n",
    "    return \"수박\"*(n//2) + \"수\"*(n%2)"
   ]
  }
 ],
 "metadata": {
  "language_info": {
   "name": "python"
  },
  "orig_nbformat": 4
 },
 "nbformat": 4,
 "nbformat_minor": 2
}
