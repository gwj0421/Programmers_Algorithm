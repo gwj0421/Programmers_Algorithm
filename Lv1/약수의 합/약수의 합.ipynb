{
 "cells": [
  {
   "cell_type": "code",
   "execution_count": null,
   "metadata": {},
   "outputs": [],
   "source": [
    "def primeSum(n):\n",
    "    prime_sum=0\n",
    "    for i in range(1,int(n**0.5+1)):\n",
    "        if n%i==0:\n",
    "            prime_sum+=i\n",
    "            if (i != (n // i)): \n",
    "                prime_sum+=n//i\n",
    "    return prime_sum\n",
    "    \n",
    "def solution(n):\n",
    "    return primeSum(n)"
   ]
  }
 ],
 "metadata": {
  "language_info": {
   "name": "python"
  },
  "orig_nbformat": 4
 },
 "nbformat": 4,
 "nbformat_minor": 2
}
