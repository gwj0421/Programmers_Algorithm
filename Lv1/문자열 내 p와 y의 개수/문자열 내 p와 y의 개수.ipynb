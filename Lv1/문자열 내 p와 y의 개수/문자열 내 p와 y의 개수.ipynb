{
 "cells": [
  {
   "cell_type": "code",
   "execution_count": null,
   "metadata": {},
   "outputs": [],
   "source": [
    "def solution(s):\n",
    "    if s.lower().count('p')!=s.lower().count('y'):\n",
    "        return False\n",
    "    return True"
   ]
  }
 ],
 "metadata": {
  "language_info": {
   "name": "python"
  },
  "orig_nbformat": 4
 },
 "nbformat": 4,
 "nbformat_minor": 2
}
